{
 "cells": [
  {
   "cell_type": "code",
   "execution_count": 2,
   "id": "3f8ecc05",
   "metadata": {},
   "outputs": [],
   "source": [
    "import pandas as pd"
   ]
  },
  {
   "cell_type": "code",
   "execution_count": 3,
   "id": "c130ebd2",
   "metadata": {},
   "outputs": [],
   "source": [
    "df = pd.read_csv('Loandata.csv')"
   ]
  },
  {
   "cell_type": "code",
   "execution_count": 4,
   "id": "523ebb01",
   "metadata": {},
   "outputs": [],
   "source": [
    "df.drop(columns = ['loan_id'], inplace=True)"
   ]
  },
  {
   "cell_type": "code",
   "execution_count": 5,
   "id": "1a0a4a43",
   "metadata": {},
   "outputs": [
    {
     "data": {
      "text/plain": [
       "Index([' no_of_dependents', ' education', ' self_employed', ' income_annum',\n",
       "       ' loan_amount', ' loan_term', ' cibil_score',\n",
       "       ' residential_assets_value', ' commercial_assets_value',\n",
       "       ' luxury_assets_value', ' bank_asset_value', ' loan_status'],\n",
       "      dtype='object')"
      ]
     },
     "execution_count": 5,
     "metadata": {},
     "output_type": "execute_result"
    }
   ],
   "source": [
    "df.columns"
   ]
  },
  {
   "cell_type": "code",
   "execution_count": 6,
   "id": "0407a5c7",
   "metadata": {},
   "outputs": [],
   "source": [
    "df.columns = df.columns.str.strip()"
   ]
  },
  {
   "cell_type": "code",
   "execution_count": 7,
   "id": "cae4d6ad",
   "metadata": {},
   "outputs": [],
   "source": [
    "df['Assets_value'] = df.residential_assets_value + df.commercial_assets_value + df.luxury_assets_value + df.bank_asset_value"
   ]
  },
  {
   "cell_type": "code",
   "execution_count": 8,
   "id": "93b94ab4",
   "metadata": {},
   "outputs": [],
   "source": [
    "df.drop(columns = ['residential_assets_value', 'commercial_assets_value', 'luxury_assets_value', 'bank_asset_value'], inplace = True)"
   ]
  },
  {
   "cell_type": "code",
   "execution_count": 9,
   "id": "8dd276a6",
   "metadata": {},
   "outputs": [
    {
     "data": {
      "text/plain": [
       "no_of_dependents    0\n",
       "education           0\n",
       "self_employed       0\n",
       "income_annum        0\n",
       "loan_amount         0\n",
       "loan_term           0\n",
       "cibil_score         0\n",
       "loan_status         0\n",
       "Assets_value        0\n",
       "dtype: int64"
      ]
     },
     "execution_count": 9,
     "metadata": {},
     "output_type": "execute_result"
    }
   ],
   "source": [
    "df.isnull().sum()"
   ]
  },
  {
   "cell_type": "code",
   "execution_count": 10,
   "id": "49d6ff10",
   "metadata": {},
   "outputs": [
    {
     "data": {
      "text/plain": [
       "array([' Not Graduate', ' Graduate'], dtype=object)"
      ]
     },
     "execution_count": 10,
     "metadata": {},
     "output_type": "execute_result"
    }
   ],
   "source": [
    "df.education.unique()\n",
    "#df.self_employed.unique()"
   ]
  },
  {
   "cell_type": "code",
   "execution_count": 11,
   "id": "ee9d4da4",
   "metadata": {},
   "outputs": [
    {
     "data": {
      "text/plain": [
       "array([' Rejected', ' Approved'], dtype=object)"
      ]
     },
     "execution_count": 11,
     "metadata": {},
     "output_type": "execute_result"
    }
   ],
   "source": [
    "df.loan_status.unique()"
   ]
  },
  {
   "cell_type": "code",
   "execution_count": 12,
   "id": "9beeedad",
   "metadata": {},
   "outputs": [],
   "source": [
    "def clean_data(s):\n",
    "    s = s.strip()\n",
    "    return s"
   ]
  },
  {
   "cell_type": "code",
   "execution_count": 13,
   "id": "8d8754a3",
   "metadata": {},
   "outputs": [],
   "source": [
    "df.education = df.education.apply(clean_data)\n",
    "df.self_employed = df.self_employed.apply(clean_data)\n",
    "df.loan_status = df.loan_status.apply(clean_data)"
   ]
  },
  {
   "cell_type": "code",
   "execution_count": 14,
   "id": "2026b677",
   "metadata": {},
   "outputs": [
    {
     "name": "stderr",
     "output_type": "stream",
     "text": [
      "C:\\Users\\HP\\AppData\\Local\\Temp\\ipykernel_9784\\3457839926.py:1: FutureWarning: Downcasting behavior in `replace` is deprecated and will be removed in a future version. To retain the old behavior, explicitly call `result.infer_objects(copy=False)`. To opt-in to the future behavior, set `pd.set_option('future.no_silent_downcasting', True)`\n",
      "  df.education = df.education.replace(['Not Graduate', 'Graduate'],[0,1])\n",
      "C:\\Users\\HP\\AppData\\Local\\Temp\\ipykernel_9784\\3457839926.py:2: FutureWarning: Downcasting behavior in `replace` is deprecated and will be removed in a future version. To retain the old behavior, explicitly call `result.infer_objects(copy=False)`. To opt-in to the future behavior, set `pd.set_option('future.no_silent_downcasting', True)`\n",
      "  df.self_employed = df.self_employed.replace(['No','Yes'],  [0,1])\n",
      "C:\\Users\\HP\\AppData\\Local\\Temp\\ipykernel_9784\\3457839926.py:3: FutureWarning: Downcasting behavior in `replace` is deprecated and will be removed in a future version. To retain the old behavior, explicitly call `result.infer_objects(copy=False)`. To opt-in to the future behavior, set `pd.set_option('future.no_silent_downcasting', True)`\n",
      "  df.loan_status = df.loan_status.replace(['Rejected','Approved'],[0,1])\n"
     ]
    }
   ],
   "source": [
    "df.education = df.education.replace(['Not Graduate', 'Graduate'],[0,1])\n",
    "df.self_employed = df.self_employed.replace(['No','Yes'],  [0,1])\n",
    "df.loan_status = df.loan_status.replace(['Rejected','Approved'],[0,1])"
   ]
  },
  {
   "cell_type": "code",
   "execution_count": 15,
   "id": "1d1b63ed",
   "metadata": {},
   "outputs": [
    {
     "data": {
      "text/html": [
       "<div>\n",
       "<style scoped>\n",
       "    .dataframe tbody tr th:only-of-type {\n",
       "        vertical-align: middle;\n",
       "    }\n",
       "\n",
       "    .dataframe tbody tr th {\n",
       "        vertical-align: top;\n",
       "    }\n",
       "\n",
       "    .dataframe thead th {\n",
       "        text-align: right;\n",
       "    }\n",
       "</style>\n",
       "<table border=\"1\" class=\"dataframe\">\n",
       "  <thead>\n",
       "    <tr style=\"text-align: right;\">\n",
       "      <th></th>\n",
       "      <th>no_of_dependents</th>\n",
       "      <th>education</th>\n",
       "      <th>self_employed</th>\n",
       "      <th>income_annum</th>\n",
       "      <th>loan_amount</th>\n",
       "      <th>loan_term</th>\n",
       "      <th>cibil_score</th>\n",
       "      <th>loan_status</th>\n",
       "      <th>Assets_value</th>\n",
       "    </tr>\n",
       "  </thead>\n",
       "  <tbody>\n",
       "    <tr>\n",
       "      <th>0</th>\n",
       "      <td>5</td>\n",
       "      <td>0</td>\n",
       "      <td>0</td>\n",
       "      <td>1100000</td>\n",
       "      <td>4300000</td>\n",
       "      <td>10</td>\n",
       "      <td>388</td>\n",
       "      <td>0</td>\n",
       "      <td>9500000</td>\n",
       "    </tr>\n",
       "    <tr>\n",
       "      <th>1</th>\n",
       "      <td>0</td>\n",
       "      <td>0</td>\n",
       "      <td>1</td>\n",
       "      <td>4100000</td>\n",
       "      <td>12200000</td>\n",
       "      <td>8</td>\n",
       "      <td>417</td>\n",
       "      <td>0</td>\n",
       "      <td>17000000</td>\n",
       "    </tr>\n",
       "    <tr>\n",
       "      <th>2</th>\n",
       "      <td>3</td>\n",
       "      <td>1</td>\n",
       "      <td>0</td>\n",
       "      <td>9100000</td>\n",
       "      <td>29700000</td>\n",
       "      <td>20</td>\n",
       "      <td>506</td>\n",
       "      <td>0</td>\n",
       "      <td>57700000</td>\n",
       "    </tr>\n",
       "    <tr>\n",
       "      <th>3</th>\n",
       "      <td>3</td>\n",
       "      <td>1</td>\n",
       "      <td>0</td>\n",
       "      <td>8200000</td>\n",
       "      <td>30700000</td>\n",
       "      <td>8</td>\n",
       "      <td>467</td>\n",
       "      <td>0</td>\n",
       "      <td>52700000</td>\n",
       "    </tr>\n",
       "    <tr>\n",
       "      <th>4</th>\n",
       "      <td>5</td>\n",
       "      <td>0</td>\n",
       "      <td>1</td>\n",
       "      <td>9800000</td>\n",
       "      <td>24200000</td>\n",
       "      <td>20</td>\n",
       "      <td>382</td>\n",
       "      <td>0</td>\n",
       "      <td>55000000</td>\n",
       "    </tr>\n",
       "    <tr>\n",
       "      <th>...</th>\n",
       "      <td>...</td>\n",
       "      <td>...</td>\n",
       "      <td>...</td>\n",
       "      <td>...</td>\n",
       "      <td>...</td>\n",
       "      <td>...</td>\n",
       "      <td>...</td>\n",
       "      <td>...</td>\n",
       "      <td>...</td>\n",
       "    </tr>\n",
       "    <tr>\n",
       "      <th>4264</th>\n",
       "      <td>5</td>\n",
       "      <td>1</td>\n",
       "      <td>1</td>\n",
       "      <td>1000000</td>\n",
       "      <td>2300000</td>\n",
       "      <td>12</td>\n",
       "      <td>317</td>\n",
       "      <td>0</td>\n",
       "      <td>7400000</td>\n",
       "    </tr>\n",
       "    <tr>\n",
       "      <th>4265</th>\n",
       "      <td>0</td>\n",
       "      <td>0</td>\n",
       "      <td>1</td>\n",
       "      <td>3300000</td>\n",
       "      <td>11300000</td>\n",
       "      <td>20</td>\n",
       "      <td>559</td>\n",
       "      <td>1</td>\n",
       "      <td>20000000</td>\n",
       "    </tr>\n",
       "    <tr>\n",
       "      <th>4266</th>\n",
       "      <td>2</td>\n",
       "      <td>0</td>\n",
       "      <td>0</td>\n",
       "      <td>6500000</td>\n",
       "      <td>23900000</td>\n",
       "      <td>18</td>\n",
       "      <td>457</td>\n",
       "      <td>0</td>\n",
       "      <td>39000000</td>\n",
       "    </tr>\n",
       "    <tr>\n",
       "      <th>4267</th>\n",
       "      <td>1</td>\n",
       "      <td>0</td>\n",
       "      <td>0</td>\n",
       "      <td>4100000</td>\n",
       "      <td>12800000</td>\n",
       "      <td>8</td>\n",
       "      <td>780</td>\n",
       "      <td>1</td>\n",
       "      <td>28800000</td>\n",
       "    </tr>\n",
       "    <tr>\n",
       "      <th>4268</th>\n",
       "      <td>1</td>\n",
       "      <td>1</td>\n",
       "      <td>0</td>\n",
       "      <td>9200000</td>\n",
       "      <td>29700000</td>\n",
       "      <td>10</td>\n",
       "      <td>607</td>\n",
       "      <td>1</td>\n",
       "      <td>77300000</td>\n",
       "    </tr>\n",
       "  </tbody>\n",
       "</table>\n",
       "<p>4269 rows × 9 columns</p>\n",
       "</div>"
      ],
      "text/plain": [
       "      no_of_dependents  education  self_employed  income_annum  loan_amount  \\\n",
       "0                    5          0              0       1100000      4300000   \n",
       "1                    0          0              1       4100000     12200000   \n",
       "2                    3          1              0       9100000     29700000   \n",
       "3                    3          1              0       8200000     30700000   \n",
       "4                    5          0              1       9800000     24200000   \n",
       "...                ...        ...            ...           ...          ...   \n",
       "4264                 5          1              1       1000000      2300000   \n",
       "4265                 0          0              1       3300000     11300000   \n",
       "4266                 2          0              0       6500000     23900000   \n",
       "4267                 1          0              0       4100000     12800000   \n",
       "4268                 1          1              0       9200000     29700000   \n",
       "\n",
       "      loan_term  cibil_score  loan_status  Assets_value  \n",
       "0            10          388            0       9500000  \n",
       "1             8          417            0      17000000  \n",
       "2            20          506            0      57700000  \n",
       "3             8          467            0      52700000  \n",
       "4            20          382            0      55000000  \n",
       "...         ...          ...          ...           ...  \n",
       "4264         12          317            0       7400000  \n",
       "4265         20          559            1      20000000  \n",
       "4266         18          457            0      39000000  \n",
       "4267          8          780            1      28800000  \n",
       "4268         10          607            1      77300000  \n",
       "\n",
       "[4269 rows x 9 columns]"
      ]
     },
     "execution_count": 15,
     "metadata": {},
     "output_type": "execute_result"
    }
   ],
   "source": [
    "df"
   ]
  },
  {
   "cell_type": "code",
   "execution_count": 16,
   "id": "8fb4c8f1",
   "metadata": {},
   "outputs": [],
   "source": [
    "from sklearn.model_selection import train_test_split"
   ]
  },
  {
   "cell_type": "code",
   "execution_count": 17,
   "id": "f8eb7cdf",
   "metadata": {},
   "outputs": [],
   "source": [
    "input_data = df.drop(columns = ['loan_status'])\n",
    "output_data = df['loan_status']"
   ]
  },
  {
   "cell_type": "code",
   "execution_count": 18,
   "id": "02813826",
   "metadata": {},
   "outputs": [],
   "source": [
    "x_train,x_test,y_train,y_test = train_test_split(input_data,output_data,test_size=0.2)"
   ]
  },
  {
   "cell_type": "code",
   "execution_count": 19,
   "id": "0cf73268",
   "metadata": {},
   "outputs": [
    {
     "data": {
      "text/plain": [
       "((3415, 8), (854, 8), (3415,), (854,))"
      ]
     },
     "execution_count": 19,
     "metadata": {},
     "output_type": "execute_result"
    }
   ],
   "source": [
    "x_train.shape, x_test.shape, y_train.shape, y_test.shape"
   ]
  },
  {
   "cell_type": "code",
   "execution_count": 20,
   "id": "2bc01cb5",
   "metadata": {},
   "outputs": [],
   "source": [
    "from sklearn.preprocessing import StandardScaler"
   ]
  },
  {
   "cell_type": "code",
   "execution_count": 21,
   "id": "e885322f",
   "metadata": {},
   "outputs": [],
   "source": [
    "scaler = StandardScaler()"
   ]
  },
  {
   "cell_type": "code",
   "execution_count": 22,
   "id": "03dfddad",
   "metadata": {},
   "outputs": [],
   "source": [
    "x_train_scaled = scaler.fit_transform(x_train)"
   ]
  },
  {
   "cell_type": "code",
   "execution_count": 23,
   "id": "4a0aa477",
   "metadata": {},
   "outputs": [],
   "source": [
    "x_test_scaled = scaler.fit_transform(x_test)"
   ]
  },
  {
   "cell_type": "code",
   "execution_count": 24,
   "id": "339b78e2",
   "metadata": {},
   "outputs": [
    {
     "data": {
      "text/plain": [
       "['Scaler.pkl']"
      ]
     },
     "execution_count": 24,
     "metadata": {},
     "output_type": "execute_result"
    }
   ],
   "source": [
    "import joblib\n",
    "joblib.dump(scaler,'Scaler.pkl')"
   ]
  },
  {
   "cell_type": "code",
   "execution_count": 25,
   "id": "a3442aa2",
   "metadata": {},
   "outputs": [
    {
     "name": "stderr",
     "output_type": "stream",
     "text": [
      "C:\\Users\\HP\\anaconda3\\lib\\site-packages\\dask\\dataframe\\__init__.py:42: FutureWarning: \n",
      "Dask dataframe query planning is disabled because dask-expr is not installed.\n",
      "\n",
      "You can install it with `pip install dask[dataframe]` or `conda install dask`.\n",
      "This will raise in a future version.\n",
      "\n",
      "  warnings.warn(msg, FutureWarning)\n"
     ]
    }
   ],
   "source": [
    "from sklearn.ensemble import RandomForestClassifier, GradientBoostingClassifier, AdaBoostClassifier, BaggingClassifier\n",
    "from sklearn.discriminant_analysis import LinearDiscriminantAnalysis, QuadraticDiscriminantAnalysis"
   ]
  },
  {
   "cell_type": "code",
   "execution_count": 27,
   "id": "1f669888",
   "metadata": {},
   "outputs": [
    {
     "name": "stdout",
     "output_type": "stream",
     "text": [
      "Accuracy: 0.9812646370023419\n",
      "Classification Report:\n",
      "               precision    recall  f1-score   support\n",
      "\n",
      "           0       0.97      0.98      0.97       318\n",
      "           1       0.99      0.98      0.99       536\n",
      "\n",
      "    accuracy                           0.98       854\n",
      "   macro avg       0.98      0.98      0.98       854\n",
      "weighted avg       0.98      0.98      0.98       854\n",
      "\n"
     ]
    }
   ],
   "source": [
    "from sklearn.metrics import classification_report, accuracy_score\n",
    "\n",
    "rf_model = RandomForestClassifier(n_estimators=100, class_weight = 'balanced', random_state=42)\n",
    "rf_model.fit(x_train_scaled, y_train)\n",
    "\n",
    "# Save the model\n",
    "joblib.dump(rf_model, 'best_rf_model.pkl')\n",
    "\n",
    "# Evaluate\n",
    "y_pred = rf_model.predict(x_test_scaled)\n",
    "print(\"Accuracy:\", accuracy_score(y_test, y_pred))\n",
    "print(\"Classification Report:\\n\", classification_report(y_test, y_pred)) "
   ]
  },
  {
   "cell_type": "code",
   "execution_count": 28,
   "id": "9bc02782",
   "metadata": {},
   "outputs": [
    {
     "data": {
      "image/png": "[encoded data removed]",
      "text/plain": [
       "<Figure size 640x480 with 2 Axes>"
      ]
     },
     "metadata": {},
     "output_type": "display_data"
    }
   ],
   "source": [
    "from sklearn.metrics import confusion_matrix\n",
    "import seaborn as sns\n",
    "import matplotlib.pyplot as plt\n",
    "\n",
    "cm = confusion_matrix(y_test, y_pred)\n",
    "sns.heatmap(cm, annot=True, fmt='d', cmap='Blues')\n",
    "plt.title(\"Confusion Matrix\")\n",
    "plt.xlabel(\"Predicted\")\n",
    "plt.ylabel(\"Actual\")\n",
    "plt.show()"
   ]
  },
  {
   "cell_type": "code",
   "execution_count": 29,
   "id": "42d74900",
   "metadata": {},
   "outputs": [
    {
     "name": "stdout",
     "output_type": "stream",
     "text": [
      "            Feature  Importance\n",
      "6       cibil_score    0.823997\n",
      "5         loan_term    0.049547\n",
      "4       loan_amount    0.041296\n",
      "7      Assets_value    0.034799\n",
      "3      income_annum    0.029861\n",
      "0  no_of_dependents    0.012926\n",
      "2     self_employed    0.003876\n",
      "1         education    0.003698\n"
     ]
    }
   ],
   "source": [
    "import pandas as pd\n",
    "\n",
    "importances = rf_model.feature_importances_\n",
    "feature_names = x_train.columns  # or manually list if using scaled data\n",
    "importance_df = pd.DataFrame({'Feature': feature_names, 'Importance': importances})\n",
    "importance_df = importance_df.sort_values(by='Importance', ascending=False)\n",
    "\n",
    "print(importance_df)"
   ]
  },
  {
   "cell_type": "code",
   "execution_count": null,
   "id": "6f347506",
   "metadata": {},
   "outputs": [],
   "source": [
    "import pandas as pd\n",
    "import joblib\n",
    "\n",
    "# Load the trained model and scaler\n",
    "model = joblib.load('best_rf_model.pkl')\n",
    "scaler = joblib.load(\"Scaler.pkl\")\n",
    "\n",
    "# Function to get user input\n",
    "def get_input_data():\n",
    "    no_of_dependents = int(input(\"Enter number of dependents: \"))\n",
    "    education = int(input(\"Enter education level (0 for No, 1 for Yes): \"))\n",
    "    self_employed = int(input(\"Enter self-employed status (0 for No, 1 for Yes): \"))\n",
    "    income_annum = float(input(\"Enter annual income: \"))\n",
    "    loan_amount = float(input(\"Enter loan amount: \"))\n",
    "    loan_term = int(input(\"Enter loan term in years: \"))\n",
    "    cibil_score = int(input(\"Enter CIBIL score: \"))\n",
    "    Assets_value = float(input(\"Enter value of total assets value: \"))\n",
    "\n",
    "    # Validation check\n",
    "    if no_of_dependents > 20 or income_annum < 10000:\n",
    "        print(\"🚫 Invalid input: Please enter realistic values.\")\n",
    "        exit()\n",
    "\n",
    "    return {\n",
    "        'no_of_dependents': [no_of_dependents],\n",
    "        'education': [education],\n",
    "        'self_employed': [self_employed],\n",
    "        'income_annum': [income_annum],\n",
    "        'loan_amount': [loan_amount],\n",
    "        'loan_term': [loan_term],\n",
    "        'cibil_score': [cibil_score],\n",
    "        'Assets_value': [Assets_value],\n",
    "    }\n",
    "\n",
    "# Function to explain model's decision\n",
    "def explain_decision(input_data, prediction, prob):\n",
    "    warnings = []\n",
    "    explanations = []\n",
    "\n",
    "    income = input_data['income_annum'][0]\n",
    "    loan = input_data['loan_amount'][0]\n",
    "    cibil = input_data['cibil_score'][0]\n",
    "    term = input_data['loan_term'][0]\n",
    "    assets = input_data['Assets_value'][0]\n",
    "    self_employed = input_data['self_employed'][0]\n",
    "\n",
    "    # Risk Warnings\n",
    "    if cibil < 650:\n",
    "        warnings.append(\"⚠️ Low CIBIL score\")\n",
    "    if loan / income > 3:\n",
    "        warnings.append(\"⚠️ High loan-to-income ratio\")\n",
    "    if loan / income > 5:\n",
    "        warnings.append(\"⚠️ Very high loan-to-income ratio\")\n",
    "    if term < 4 and loan / income > 2:\n",
    "        warnings.append(\"⚠️ Short loan term with high EMI burden\")\n",
    "\n",
    "    # Positive Indicators\n",
    "    if assets > (0.5 * loan):\n",
    "        explanations.append(\"✔️ Strong asset value relative to loan\")\n",
    "    if self_employed == 1:\n",
    "        explanations.append(\"✔️ Self-employed: may have alternative income streams\")\n",
    "    if cibil >= 650:\n",
    "        explanations.append(\"✔️ Acceptable credit score\")\n",
    "    if loan / income <= 3:\n",
    "        explanations.append(\"✔️ Manageable loan-to-income ratio\")\n",
    "\n",
    "    # Show Decision\n",
    "    print(\"\\n🔍 Risk Warnings:\")\n",
    "    if warnings:\n",
    "        for w in warnings:\n",
    "            print(\" -\", w)\n",
    "    else:\n",
    "        print(\" - None\")\n",
    "\n",
    "    print(\"\\n📘 Model Explanation:\")\n",
    "    if explanations:\n",
    "        for e in explanations:\n",
    "            print(\" -\", e)\n",
    "    else:\n",
    "        print(\" - No strong positive indicators\")\n",
    "\n",
    "    print(f\"\\n🧪 Prediction Confidence: {prob:.2f}\")\n",
    "    print(f\"\\n🔎 Predicted Loan Status: {'✅ Approved' if prediction[0]==1 else '❌ Rejected'}\")\n",
    "\n",
    "# Main prediction flow\n",
    "if __name__ == '__main__':\n",
    "    input_data = get_input_data()\n",
    "    input_df = pd.DataFrame(input_data)\n",
    "    input_df_scaled = scaler.transform(input_df)\n",
    "\n",
    "    prediction = model.predict(input_df_scaled)\n",
    "    prob = model.predict_proba(input_df_scaled)[0][1]  # Confidence of approval\n",
    "\n",
    "    # Optional Override Logic (extremely high risk)\n",
    "    loan = input_data['loan_amount'][0]\n",
    "    income = input_data['income_annum'][0]\n",
    "    cibil = input_data['cibil_score'][0]\n",
    "\n",
    "    if cibil < 500 or (loan / income > 10):\n",
    "        print(\"\\n🚫 Overridden: Application automatically rejected due to extreme risk.\")\n",
    "    else:\n",
    "        explain_decision(input_data, prediction, prob)\n"
   ]
  },
  {
   "cell_type": "code",
   "execution_count": null,
   "id": "a38a92aa",
   "metadata": {},
   "outputs": [],
   "source": [
    "import pickle\n",
    "import pandas as pd\n",
    "import joblib\n",
    "\n",
    "# Load the model and scaler\n",
    "model = joblib.load('best_rf_model.pkl')\n",
    "scaler = joblib.load(\"Scaler.pkl\")\n",
    "\n",
    "# Function to get user input\n",
    "def get_input_data():\n",
    "    no_of_dependents = int(input(\"Enter number of dependents: \"))\n",
    "    education = int(input(\"Enter education level (0 for No, 1 for Yes): \"))\n",
    "    self_employed = int(input(\"Enter self-employed status (0 for No, 1 for Yes): \"))\n",
    "    income_annum = float(input(\"Enter annual income: \"))\n",
    "    loan_amount = float(input(\"Enter loan amount: \"))\n",
    "    loan_term = int(input(\"Enter loan term in years: \"))\n",
    "    cibil_score = int(input(\"Enter CIBIL score: \"))\n",
    "    Assets_value = float(input(\"Enter value of total assets value: \"))\n",
    "    \n",
    "    return {\n",
    "        'no_of_dependents': [no_of_dependents],\n",
    "        'education': [education],\n",
    "        'self_employed': [self_employed],\n",
    "        'income_annum': [income_annum],\n",
    "        'loan_amount': [loan_amount],\n",
    "        'loan_term': [loan_term],\n",
    "        'cibil_score': [cibil_score],\n",
    "        'Assets_value': [Assets_value],\n",
    "    }\n",
    "\n",
    "# Get input and preprocess\n",
    "input_data = get_input_data()\n",
    "input_df = pd.DataFrame(input_data)\n",
    "input_df_scaled = scaler.transform(input_df)\n",
    "\n",
    "# Predict\n",
    "prediction = model.predict(input_df_scaled)\n",
    "print(f\"Predicted Loan Status: {prediction[0]}\")\n"
   ]
  }
 ],
 "metadata": {
  "kernelspec": {
   "display_name": "Python 3 (ipykernel)",
   "language": "python",
   "name": "python3"
  },
  "language_info": {
   "codemirror_mode": {
    "name": "ipython",
    "version": 3
   },
   "file_extension": ".py",
   "mimetype": "text/x-python",
   "name": "python",
   "nbconvert_exporter": "python",
   "pygments_lexer": "ipython3",
   "version": "3.9.13"
  }
 },
 "nbformat": 4,
 "nbformat_minor": 5
}
